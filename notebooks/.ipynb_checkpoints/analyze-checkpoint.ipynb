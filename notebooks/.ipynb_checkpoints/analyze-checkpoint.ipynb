{
 "cells": [
  {
   "cell_type": "code",
   "execution_count": 1,
   "metadata": {},
   "outputs": [],
   "source": [
    "%matplotlib notebook\n",
    "from ipywidgets import *\n",
    "\n",
    "import os\n",
    "import pandas as pd\n",
    "import ast\n",
    "\n",
    "import seaborn as sns\n",
    "import matplotlib.pyplot as plt\n",
    "\n",
    "import scipy\n",
    "import numpy as np\n",
    "\n",
    "import glob\n",
    "\n",
    "%matplotlib inline"
   ]
  },
  {
   "cell_type": "code",
   "execution_count": 2,
   "metadata": {},
   "outputs": [
    {
     "name": "stdout",
     "output_type": "stream",
     "text": [
      "Found 11 csv files\n",
      "(1, 2, 2, 2, 7)\n",
      "(1, 2, 2, 1, 8)\n",
      "(1, 2, 1, 2, 8)\n",
      "(1, 1, 2, 2, 8)\n",
      "(0, 2, 2, 2, 8)\n",
      "(1, 2, 1, 1, 8)\n",
      "(1, 2, 2, 2, 6)\n",
      "(1, 2, 2, 2, 5)\n",
      "(1, 2, 1, 1, 6)\n",
      "(1, 2, 2, 0, 6)\n",
      "(1, 2, 0, 2, 6)\n",
      "\n",
      "Setting treshold for negligible values to 0.05%\n"
     ]
    }
   ],
   "source": [
    "data_directory = '../chess_resources/csv'\n",
    "\n",
    "csv_files = glob.glob(data_directory + \"/*.csv\")\n",
    "print(\"Found \" + str(len(csv_files)) + \" csv files\")\n",
    "\n",
    "constrains = []\n",
    "for file in csv_files:\n",
    "    constrains.append(file.split(\"/\")[-1].split(\".\")[0])\n",
    "\n",
    "# to python array\n",
    "constrains = [ast.literal_eval(c) for c in constrains]\n",
    "\n",
    "for c in constrains:\n",
    "    print(c)\n",
    "\n",
    "constraint_piece_indexes = {\n",
    "    'queen': 0,\n",
    "    'rook': 1,\n",
    "    'bishop': 2,\n",
    "    'knight': 3,\n",
    "    'pawn': 4\n",
    "}\n",
    "\n",
    "# filter negligible values\n",
    "treshold_percent = 0.05\n",
    "print(\"\\nSetting treshold for negligible values to \" + str(treshold_percent) + \"%\")"
   ]
  },
  {
   "cell_type": "markdown",
   "metadata": {},
   "source": [
    "# One **Pawn** missing"
   ]
  },
  {
   "cell_type": "code",
   "execution_count": 3,
   "metadata": {},
   "outputs": [
    {
     "data": {
      "text/plain": [
       "'File name: ../chess_resources/csv/(1, 2, 2, 2, 7).csv'"
      ]
     },
     "metadata": {},
     "output_type": "display_data"
    },
    {
     "data": {
      "text/plain": [
       "(564538, 11)"
      ]
     },
     "metadata": {},
     "output_type": "display_data"
    },
    {
     "data": {
      "text/html": [
       "<div>\n",
       "<style scoped>\n",
       "    .dataframe tbody tr th:only-of-type {\n",
       "        vertical-align: middle;\n",
       "    }\n",
       "\n",
       "    .dataframe tbody tr th {\n",
       "        vertical-align: top;\n",
       "    }\n",
       "\n",
       "    .dataframe thead th {\n",
       "        text-align: right;\n",
       "    }\n",
       "</style>\n",
       "<table border=\"1\" class=\"dataframe\">\n",
       "  <thead>\n",
       "    <tr style=\"text-align: right;\">\n",
       "      <th></th>\n",
       "      <th>id</th>\n",
       "      <th>result</th>\n",
       "      <th>white_elo</th>\n",
       "      <th>black_elo</th>\n",
       "      <th>time_control</th>\n",
       "      <th>satisfied_after</th>\n",
       "      <th>queen_pos</th>\n",
       "      <th>rook_pos</th>\n",
       "      <th>bishop_pos</th>\n",
       "      <th>knight_pos</th>\n",
       "      <th>pawn_pos</th>\n",
       "    </tr>\n",
       "  </thead>\n",
       "  <tbody>\n",
       "    <tr>\n",
       "      <th>0</th>\n",
       "      <td>0</td>\n",
       "      <td>0</td>\n",
       "      <td>1627</td>\n",
       "      <td>1827</td>\n",
       "      <td>300+8</td>\n",
       "      <td>13</td>\n",
       "      <td>[3,]</td>\n",
       "      <td>[0,7,]</td>\n",
       "      <td>[2,5,]</td>\n",
       "      <td>[1,6,]</td>\n",
       "      <td>[9,10,16,19,21,22,31,]</td>\n",
       "    </tr>\n",
       "    <tr>\n",
       "      <th>1</th>\n",
       "      <td>1</td>\n",
       "      <td>0</td>\n",
       "      <td>1337</td>\n",
       "      <td>1662</td>\n",
       "      <td>-</td>\n",
       "      <td>17</td>\n",
       "      <td>[3,]</td>\n",
       "      <td>[0,7,]</td>\n",
       "      <td>[2,5,]</td>\n",
       "      <td>[1,6,]</td>\n",
       "      <td>[8,9,14,15,18,21,27,]</td>\n",
       "    </tr>\n",
       "    <tr>\n",
       "      <th>2</th>\n",
       "      <td>2</td>\n",
       "      <td>1</td>\n",
       "      <td>1402</td>\n",
       "      <td>1524</td>\n",
       "      <td>600+0</td>\n",
       "      <td>13</td>\n",
       "      <td>[3,]</td>\n",
       "      <td>[0,7,]</td>\n",
       "      <td>[12,31,]</td>\n",
       "      <td>[6,18,]</td>\n",
       "      <td>[8,9,10,13,14,15,19,]</td>\n",
       "    </tr>\n",
       "    <tr>\n",
       "      <th>3</th>\n",
       "      <td>3</td>\n",
       "      <td>1</td>\n",
       "      <td>1753</td>\n",
       "      <td>1744</td>\n",
       "      <td>180+0</td>\n",
       "      <td>9</td>\n",
       "      <td>[3,]</td>\n",
       "      <td>[0,7,]</td>\n",
       "      <td>[2,26,]</td>\n",
       "      <td>[18,21,]</td>\n",
       "      <td>[8,9,10,11,13,14,15,]</td>\n",
       "    </tr>\n",
       "    <tr>\n",
       "      <th>4</th>\n",
       "      <td>4</td>\n",
       "      <td>1</td>\n",
       "      <td>1651</td>\n",
       "      <td>1627</td>\n",
       "      <td>60+0</td>\n",
       "      <td>11</td>\n",
       "      <td>[3,]</td>\n",
       "      <td>[0,7,]</td>\n",
       "      <td>[2,5,]</td>\n",
       "      <td>[6,18,]</td>\n",
       "      <td>[8,9,14,15,26,27,29,]</td>\n",
       "    </tr>\n",
       "  </tbody>\n",
       "</table>\n",
       "</div>"
      ],
      "text/plain": [
       "   id  result  white_elo  black_elo time_control  satisfied_after queen_pos  \\\n",
       "0   0       0       1627       1827        300+8               13      [3,]   \n",
       "1   1       0       1337       1662            -               17      [3,]   \n",
       "2   2       1       1402       1524        600+0               13      [3,]   \n",
       "3   3       1       1753       1744        180+0                9      [3,]   \n",
       "4   4       1       1651       1627         60+0               11      [3,]   \n",
       "\n",
       "  rook_pos bishop_pos knight_pos                pawn_pos  \n",
       "0   [0,7,]     [2,5,]     [1,6,]  [9,10,16,19,21,22,31,]  \n",
       "1   [0,7,]     [2,5,]     [1,6,]   [8,9,14,15,18,21,27,]  \n",
       "2   [0,7,]   [12,31,]    [6,18,]   [8,9,10,13,14,15,19,]  \n",
       "3   [0,7,]    [2,26,]   [18,21,]   [8,9,10,11,13,14,15,]  \n",
       "4   [0,7,]     [2,5,]    [6,18,]   [8,9,14,15,26,27,29,]  "
      ]
     },
     "metadata": {},
     "output_type": "display_data"
    },
    {
     "data": {
      "text/plain": [
       "id                  int64\n",
       "result              int64\n",
       "white_elo           int64\n",
       "black_elo           int64\n",
       "time_control       object\n",
       "satisfied_after     int64\n",
       "queen_pos          object\n",
       "rook_pos           object\n",
       "bishop_pos         object\n",
       "knight_pos         object\n",
       "pawn_pos           object\n",
       "dtype: object"
      ]
     },
     "metadata": {},
     "output_type": "display_data"
    }
   ],
   "source": [
    "file_name = '(1, 2, 2, 2, 7).csv'\n",
    "full_name = os.path.join(data_directory, file_name)\n",
    "display('File name: ' + full_name)\n",
    "\n",
    "df = pd.read_csv(full_name, sep=\";\")\n",
    "display(df.shape)\n",
    "display(df.head())\n",
    "display(df.dtypes)"
   ]
  },
  {
   "cell_type": "markdown",
   "metadata": {},
   "source": [
    "## Converting objects"
   ]
  },
  {
   "cell_type": "code",
   "execution_count": 4,
   "metadata": {},
   "outputs": [
    {
     "data": {
      "text/plain": [
       "queen_pos     object\n",
       "rook_pos      object\n",
       "bishop_pos    object\n",
       "knight_pos    object\n",
       "pawn_pos      object\n",
       "dtype: object"
      ]
     },
     "execution_count": 4,
     "metadata": {},
     "output_type": "execute_result"
    }
   ],
   "source": [
    "# first convert 'object' to arrays\n",
    "arrays_columns = ['queen_pos', 'rook_pos', 'bishop_pos', 'knight_pos', 'pawn_pos']\n",
    "for col in arrays_columns:\n",
    "    df[col] = df[col].apply(lambda x: ast.literal_eval(x))\n",
    "\n",
    "df.dtypes[arrays_columns]"
   ]
  },
  {
   "cell_type": "markdown",
   "metadata": {},
   "source": [
    "## Drop unnecessary columns"
   ]
  },
  {
   "cell_type": "code",
   "execution_count": 5,
   "metadata": {},
   "outputs": [
    {
     "data": {
      "text/html": [
       "<div>\n",
       "<style scoped>\n",
       "    .dataframe tbody tr th:only-of-type {\n",
       "        vertical-align: middle;\n",
       "    }\n",
       "\n",
       "    .dataframe tbody tr th {\n",
       "        vertical-align: top;\n",
       "    }\n",
       "\n",
       "    .dataframe thead th {\n",
       "        text-align: right;\n",
       "    }\n",
       "</style>\n",
       "<table border=\"1\" class=\"dataframe\">\n",
       "  <thead>\n",
       "    <tr style=\"text-align: right;\">\n",
       "      <th></th>\n",
       "      <th>result</th>\n",
       "      <th>satisfied_after</th>\n",
       "      <th>queen_pos</th>\n",
       "      <th>rook_pos</th>\n",
       "      <th>bishop_pos</th>\n",
       "      <th>knight_pos</th>\n",
       "      <th>pawn_pos</th>\n",
       "    </tr>\n",
       "  </thead>\n",
       "  <tbody>\n",
       "    <tr>\n",
       "      <th>0</th>\n",
       "      <td>0</td>\n",
       "      <td>13</td>\n",
       "      <td>[3]</td>\n",
       "      <td>[0, 7]</td>\n",
       "      <td>[2, 5]</td>\n",
       "      <td>[1, 6]</td>\n",
       "      <td>[9, 10, 16, 19, 21, 22, 31]</td>\n",
       "    </tr>\n",
       "    <tr>\n",
       "      <th>1</th>\n",
       "      <td>0</td>\n",
       "      <td>17</td>\n",
       "      <td>[3]</td>\n",
       "      <td>[0, 7]</td>\n",
       "      <td>[2, 5]</td>\n",
       "      <td>[1, 6]</td>\n",
       "      <td>[8, 9, 14, 15, 18, 21, 27]</td>\n",
       "    </tr>\n",
       "    <tr>\n",
       "      <th>2</th>\n",
       "      <td>1</td>\n",
       "      <td>13</td>\n",
       "      <td>[3]</td>\n",
       "      <td>[0, 7]</td>\n",
       "      <td>[12, 31]</td>\n",
       "      <td>[6, 18]</td>\n",
       "      <td>[8, 9, 10, 13, 14, 15, 19]</td>\n",
       "    </tr>\n",
       "    <tr>\n",
       "      <th>3</th>\n",
       "      <td>1</td>\n",
       "      <td>9</td>\n",
       "      <td>[3]</td>\n",
       "      <td>[0, 7]</td>\n",
       "      <td>[2, 26]</td>\n",
       "      <td>[18, 21]</td>\n",
       "      <td>[8, 9, 10, 11, 13, 14, 15]</td>\n",
       "    </tr>\n",
       "    <tr>\n",
       "      <th>4</th>\n",
       "      <td>1</td>\n",
       "      <td>11</td>\n",
       "      <td>[3]</td>\n",
       "      <td>[0, 7]</td>\n",
       "      <td>[2, 5]</td>\n",
       "      <td>[6, 18]</td>\n",
       "      <td>[8, 9, 14, 15, 26, 27, 29]</td>\n",
       "    </tr>\n",
       "  </tbody>\n",
       "</table>\n",
       "</div>"
      ],
      "text/plain": [
       "   result  satisfied_after queen_pos rook_pos bishop_pos knight_pos  \\\n",
       "0       0               13       [3]   [0, 7]     [2, 5]     [1, 6]   \n",
       "1       0               17       [3]   [0, 7]     [2, 5]     [1, 6]   \n",
       "2       1               13       [3]   [0, 7]   [12, 31]    [6, 18]   \n",
       "3       1                9       [3]   [0, 7]    [2, 26]   [18, 21]   \n",
       "4       1               11       [3]   [0, 7]     [2, 5]    [6, 18]   \n",
       "\n",
       "                      pawn_pos  \n",
       "0  [9, 10, 16, 19, 21, 22, 31]  \n",
       "1   [8, 9, 14, 15, 18, 21, 27]  \n",
       "2   [8, 9, 10, 13, 14, 15, 19]  \n",
       "3   [8, 9, 10, 11, 13, 14, 15]  \n",
       "4   [8, 9, 14, 15, 26, 27, 29]  "
      ]
     },
     "execution_count": 5,
     "metadata": {},
     "output_type": "execute_result"
    }
   ],
   "source": [
    "df.drop(columns=['id', 'white_elo', 'black_elo', 'time_control'], inplace=True)\n",
    "df.head()"
   ]
  },
  {
   "cell_type": "markdown",
   "metadata": {},
   "source": [
    "## Analysing\n",
    "### Winning"
   ]
  },
  {
   "cell_type": "code",
   "execution_count": 6,
   "metadata": {},
   "outputs": [
    {
     "data": {
      "text/plain": [
       "count    564538.000000\n",
       "mean          0.495155\n",
       "std           0.499977\n",
       "min           0.000000\n",
       "25%           0.000000\n",
       "50%           0.000000\n",
       "75%           1.000000\n",
       "max           1.000000\n",
       "Name: result, dtype: float64"
      ]
     },
     "metadata": {},
     "output_type": "display_data"
    },
    {
     "data": {
      "image/png": "[encoded data removed]",
      "text/plain": [
       "<Figure size 800x600 with 1 Axes>"
      ]
     },
     "metadata": {},
     "output_type": "display_data"
    }
   ],
   "source": [
    "display(df['result'].describe())\n",
    "\n",
    "value_counts = df['result'].value_counts()\n",
    "prob_distribution = value_counts / value_counts.sum()\n",
    "\n",
    "# Plotting the probability distribution\n",
    "# Plotting the pie chart\n",
    "\n",
    "plt.figure(figsize=(8, 6))\n",
    "plt.pie(prob_distribution, labels=prob_distribution.index, autopct='%1.1f%%', startangle=90, colors=sns.color_palette('pastel')[0:value_counts.shape[0]])\n",
    "plt.title('Probability Distribution of Who Won')\n",
    "plt.show()"
   ]
  },
  {
   "cell_type": "markdown",
   "metadata": {},
   "source": [
    "This implies the current constrain combination **Does Not AFFECT** chance to win. This make sense as it is only start of the game.\n",
    "\n",
    "### Number of satisfied Move"
   ]
  },
  {
   "cell_type": "code",
   "execution_count": 7,
   "metadata": {},
   "outputs": [
    {
     "data": {
      "text/plain": [
       "count    564538.000000\n",
       "mean          9.679843\n",
       "std           6.233302\n",
       "min           3.000000\n",
       "25%           5.000000\n",
       "50%           7.000000\n",
       "75%          13.000000\n",
       "max          77.000000\n",
       "Name: satisfied_after, dtype: float64"
      ]
     },
     "metadata": {},
     "output_type": "display_data"
    },
    {
     "data": {
      "text/plain": [
       "'Median: 7.0'"
      ]
     },
     "metadata": {},
     "output_type": "display_data"
    },
    {
     "name": "stdout",
     "output_type": "stream",
     "text": [
      "Negligible values: Index([10, 12, 14, 16, 18, 20, 39, 41, 43, 45, 47, 49, 51, 53, 55, 57, 59, 61,\n",
      "       65, 67, 77],\n",
      "      dtype='int64', name='satisfied_after')\n"
     ]
    },
    {
     "data": {
      "image/png": "[encoded data removed]",
      "text/plain": [
       "<Figure size 1300x500 with 2 Axes>"
      ]
     },
     "metadata": {},
     "output_type": "display_data"
    }
   ],
   "source": [
    "display(df['satisfied_after'].describe())\n",
    "display('Median: ' + str(df['satisfied_after'].median()))\n",
    "\n",
    "value_counts = df['satisfied_after'].value_counts()\n",
    "value_counts = value_counts.sort_index()\n",
    "\n",
    "threshold_value = (treshold_percent/100) * value_counts.sum()\n",
    "negligible_values = value_counts[value_counts <= threshold_value].index\n",
    "print(\"Negligible values: \" + str(negligible_values))\n",
    "\n",
    "value_counts = value_counts[value_counts > threshold_value]\n",
    "\n",
    "fig, axes = plt.subplots(nrows=1, ncols=2, figsize=(13, 5))\n",
    "\n",
    "axes[0].plot(value_counts.index, value_counts.values, marker='o')\n",
    "plt.xlabel('Satisfied After')\n",
    "plt.ylabel('Number of Orders')\n",
    "axes[0].set_xticks(value_counts.index)\n",
    "\n",
    "prob_distribution = value_counts / value_counts.sum()\n",
    "\n",
    "# Plotting the probability distribution\n",
    "axes[1].bar(prob_distribution.index, prob_distribution.values)\n",
    "plt.xlabel('Satisfied After')\n",
    "plt.ylabel('Probability')\n",
    "plt.title('Probability Distribution of Satisfied After')\n",
    "axes[1].set_xticks(value_counts.index)\n",
    "axes[1].set_yticks(np.arange(0, prob_distribution.max(), 0.02))\n",
    "\n",
    "plt.show()"
   ]
  },
  {
   "cell_type": "markdown",
   "metadata": {},
   "source": [
    "The reason why all values are odd is because it's always white's move.<br/><br/>\n",
    "$=>$ This Constraint is satisfied after **10** moves on average and median of **7** moves.\n",
    "\n",
    "\n",
    "### Piece positions\n",
    "##### Queen"
   ]
  },
  {
   "cell_type": "code",
   "execution_count": 8,
   "metadata": {},
   "outputs": [
    {
     "data": {
      "text/plain": [
       "count    564538.000000\n",
       "mean          4.173806\n",
       "std           4.549427\n",
       "min           0.000000\n",
       "25%           3.000000\n",
       "50%           3.000000\n",
       "75%           3.000000\n",
       "max          63.000000\n",
       "Name: queen_pos, dtype: float64"
      ]
     },
     "metadata": {},
     "output_type": "display_data"
    },
    {
     "data": {
      "text/plain": [
       "'Median: 3.0'"
      ]
     },
     "metadata": {},
     "output_type": "display_data"
    },
    {
     "name": "stdout",
     "output_type": "stream",
     "text": [
      "Negligible values: Index([31, 13, 63, 29,  1, 35, 34, 27, 33, 36, 50, 14, 49, 26, 16, 55, 47, 25,\n",
      "       28, 54,  5,  9, 15, 40, 53, 37,  0, 48, 56, 32, 62, 42,  8, 46, 45, 44,\n",
      "        6, 57, 43, 61, 58, 59, 52, 41, 60,  7],\n",
      "      dtype='int64', name='queen_pos')\n"
     ]
    },
    {
     "data": {
      "text/plain": [
       "queen_pos\n",
       "3     0.912654\n",
       "10    0.018158\n",
       "11    0.017369\n",
       "12    0.016927\n",
       "21    0.011771\n",
       "17    0.006551\n",
       "19    0.003090\n",
       "22    0.002327\n",
       "24    0.002229\n",
       "4     0.001923\n",
       "39    0.001773\n",
       "2     0.001704\n",
       "20    0.001002\n",
       "30    0.000788\n",
       "38    0.000601\n",
       "18    0.000569\n",
       "23    0.000565\n",
       "Name: count, dtype: float64"
      ]
     },
     "metadata": {},
     "output_type": "display_data"
    }
   ],
   "source": [
    "queen_column = df['queen_pos'].apply(lambda x: x[0])\n",
    "\n",
    "display(queen_column.describe())\n",
    "display('Median: ' + str(queen_column.median()))\n",
    "\n",
    "value_counts = queen_column.value_counts()\n",
    "value_counts = value_counts.sort_values(ascending=False)\n",
    "\n",
    "threshold_value = (treshold_percent/100) * value_counts.sum()\n",
    "negligible_values = value_counts[value_counts <= threshold_value].index\n",
    "print(\"Negligible values: \" + str(negligible_values))\n",
    "\n",
    "value_counts = value_counts[value_counts > threshold_value]\n",
    "prob_distribution = value_counts / value_counts.sum()\n",
    "display(prob_distribution)\n",
    "\n",
    "index_of_max_value = prob_distribution[prob_distribution == prob_distribution.max()].index[0]\n",
    "#prob_distribution.drop(index_of_max_value, inplace=True)\n",
    "# fig, axes = plt.subplots(nrows=1, ncols=2, figsize=(13, 5))\n",
    "\n",
    "\n",
    "# axes[0].bar(prob_distribution.index, prob_distribution.values)\n",
    "# plt.xlabel('Satisfied After')\n",
    "# plt.ylabel('Probability')\n",
    "# plt.title('Probability Distribution of Satisfied After')\n",
    "\n",
    "# axes[1].hist(queen_column, bins=queen_column.max(), density=True, color=sns.color_palette('pastel')[0])\n",
    "\n",
    "\n",
    "# #axes[1].pie(prob_distribution, labels=prob_distribution.index, autopct='%1.1f%%', startangle=90, colors=sns.color_palette('pastel')[0:value_counts.shape[0]])\n",
    "\n",
    "# plt.show()\n"
   ]
  },
  {
   "cell_type": "markdown",
   "metadata": {},
   "source": [
    "$=>$ Vidíme, že ve většině případů se dáma nehne, zůstává na **d1(91%)** a v pak nejčastěji je na políčkách **c2(1.8%), d2(1.7%), e2(1.6%), f3(1.1%), b2(0.6%)**.\\\n",
    "Podíváme, jestli tyto nejčastější pozice nějak ovlivňují šanci na výhru:"
   ]
  },
  {
   "cell_type": "code",
   "execution_count": 9,
   "metadata": {},
   "outputs": [
    {
     "name": "stdout",
     "output_type": "stream",
     "text": [
      "Queen pos: 3: result\n",
      "0    0.503555\n",
      "1    0.496445\n",
      "Name: count, dtype: float64 \n",
      "\n",
      "Queen pos: 10: result\n",
      "0    0.506821\n",
      "1    0.493179\n",
      "Name: count, dtype: float64 \n",
      "\n",
      "Queen pos: 11: result\n",
      "1    0.513134\n",
      "0    0.486866\n",
      "Name: count, dtype: float64 \n",
      "\n",
      "Queen pos: 12: result\n",
      "0    0.508423\n",
      "1    0.491577\n",
      "Name: count, dtype: float64 \n",
      "\n",
      "Queen pos: 21: result\n",
      "0    0.560484\n",
      "1    0.439516\n",
      "Name: count, dtype: float64 \n",
      "\n",
      "Queen pos: 17: result\n",
      "0    0.508705\n",
      "1    0.491295\n",
      "Name: count, dtype: float64 \n",
      "\n"
     ]
    }
   ],
   "source": [
    "for pos in [3, 10, 11, 12, 21, 17]:\n",
    "    filtered_df = df[df['queen_pos'].apply(lambda x: pos in x)]\n",
    "    value_counts = filtered_df['result'].value_counts()\n",
    "    print(f'Queen pos: {pos}:', value_counts / value_counts.sum(), '\\n')"
   ]
  },
  {
   "cell_type": "markdown",
   "metadata": {},
   "source": [
    "Vidíme, že dáma na políčkách **d1, c2, d2, e2 a b2** neovlivňuje šanci na výhru. Zato není zanedbatelný rozdíl **13% větší** šance na výhru, pokuď se nachází na **f3**. Je možné, že to je kvůli jednoduchému matu 3 tahy.\n",
    "\n",
    "##### Rook"
   ]
  },
  {
   "cell_type": "code",
   "execution_count": 10,
   "metadata": {},
   "outputs": [
    {
     "data": {
      "text/plain": [
       "count     564538\n",
       "unique       126\n",
       "top       [0, 7]\n",
       "freq      466062\n",
       "Name: rook_pos, dtype: object"
      ]
     },
     "metadata": {},
     "output_type": "display_data"
    },
    {
     "name": "stdout",
     "output_type": "stream",
     "text": [
      "Negligible values: Index([  [4, 5],   [2, 3],   [7, 8],  [0, 13],  [0, 15],  [0, 23],   [6, 7],\n",
      "         [3, 6],   [5, 8],   [4, 7],\n",
      "       ...\n",
      "        [5, 21],  [5, 50],  [1, 20],  [5, 14], [17, 23], [11, 15],  [6, 13],\n",
      "        [0, 29],  [7, 48],  [7, 31]],\n",
      "      dtype='object', name='rook_pos', length=112)\n"
     ]
    },
    {
     "data": {
      "text/plain": [
       "rook_pos\n",
       "[0, 7]    0.827838\n",
       "[0, 5]    0.127486\n",
       "[0, 4]    0.022173\n",
       "[3, 7]    0.008496\n",
       "[1, 5]    0.003442\n",
       "[2, 5]    0.003201\n",
       "[2, 7]    0.001581\n",
       "[1, 7]    0.001359\n",
       "[3, 5]    0.000854\n",
       "[0, 3]    0.000817\n",
       "[0, 6]    0.000812\n",
       "[2, 4]    0.000766\n",
       "[3, 4]    0.000602\n",
       "[1, 4]    0.000574\n",
       "Name: count, dtype: float64"
      ]
     },
     "metadata": {},
     "output_type": "display_data"
    }
   ],
   "source": [
    "rook_column = df['rook_pos']\n",
    "display(rook_column.describe())\n",
    "\n",
    "value_counts = rook_column.value_counts()\n",
    "value_counts = value_counts.sort_values(ascending=False)\n",
    "\n",
    "threshold_value = (treshold_percent/100) * value_counts.sum()\n",
    "negligible_values = value_counts[value_counts <= threshold_value].index\n",
    "print(\"Negligible values: \" + str(negligible_values))\n",
    "\n",
    "value_counts = value_counts[value_counts > threshold_value]\n",
    "prob_distribution = value_counts / value_counts.sum()\n",
    "display(prob_distribution)\n"
   ]
  },
  {
   "cell_type": "markdown",
   "metadata": {},
   "source": [
    "$=>$ Vidíme, že ve většině případů se věž nehne **[a1, h1] (82.7%)**. Poté ve **12%** je udělaná malá rošáda **[a1, f1]** a ve **2%** se po ní pohne o jedno políčko doleva **[a1, e1]**. V **0.84%** je udělána velká rošáda **[d1, h1]**. Ostatní jsou zanedbatelné."
   ]
  },
  {
   "cell_type": "code",
   "execution_count": 11,
   "metadata": {},
   "outputs": [
    {
     "name": "stdout",
     "output_type": "stream",
     "text": [
      "Queen pos: [0, 7]: result\n",
      "0    0.507705\n",
      "1    0.492295\n",
      "Name: count, dtype: float64 \n",
      "\n",
      "Queen pos: [0, 5]: result\n",
      "1    0.509272\n",
      "0    0.490728\n",
      "Name: count, dtype: float64 \n",
      "\n",
      "Queen pos: [0, 4]: result\n",
      "1    0.514219\n",
      "0    0.485781\n",
      "Name: count, dtype: float64 \n",
      "\n",
      "Queen pos: [3, 7]: result\n",
      "1    0.509722\n",
      "0    0.490278\n",
      "Name: count, dtype: float64 \n",
      "\n"
     ]
    }
   ],
   "source": [
    "for pos in [[0, 7], [0, 5], [0, 4], [3, 7]]:\n",
    "    filtered_df = df[df['rook_pos'].apply(lambda x: pos == x)]\n",
    "    value_counts = filtered_df['result'].value_counts()\n",
    "    print(f'Queen pos: {pos}:', value_counts / value_counts.sum(), '\\n')"
   ]
  },
  {
   "cell_type": "code",
   "execution_count": 40,
   "metadata": {},
   "outputs": [
    {
     "name": "stdout",
     "output_type": "stream",
     "text": [
      "Queen:\n",
      "Is one dimensional: True\n",
      "Negligible values: Index([31, 13, 63, 29,  1, 35, 34, 27, 33, 36, 50, 14, 49, 26, 16, 55, 47, 25,\n",
      "       28, 54,  5,  9, 15, 40, 53, 37,  0, 48, 56, 32, 62, 42,  8, 46, 45, 44,\n",
      "        6, 57, 43, 61, 58, 59, 52, 41, 60,  7],\n",
      "      dtype='int64', name='queen_pos')\n",
      "\u001b[1mProbability\u001b[0m\u001b[1m distribution:\u001b[0m\n",
      "queen_pos\n",
      "3     0.912654\n",
      "10    0.018158\n",
      "11    0.017369\n",
      "12    0.016927\n",
      "21    0.011771\n",
      "17    0.006551\n",
      "19    0.003090\n",
      "22    0.002327\n",
      "24    0.002229\n",
      "4     0.001923\n",
      "39    0.001773\n",
      "2     0.001704\n",
      "20    0.001002\n",
      "30    0.000788\n",
      "38    0.000601\n",
      "18    0.000569\n",
      "23    0.000565\n",
      "Name: count, dtype: float64\n"
     ]
    },
    {
     "data": {
      "application/vnd.jupyter.widget-view+json": {
       "model_id": "6d6e502b4fd24b9fbb8eb43a7ce8ff7f",
       "version_major": 2,
       "version_minor": 0
      },
      "text/plain": [
       "interactive(children=(FloatSlider(value=1.0, description='zoom', max=1.0, min=0.01, step=0.05), Output()), _do…"
      ]
     },
     "metadata": {},
     "output_type": "display_data"
    },
    {
     "name": "stdout",
     "output_type": "stream",
     "text": [
      "Rook:\n",
      "Is one dimensional: False\n",
      "Negligible values: Index([  [4, 5],   [2, 3],   [7, 8],  [0, 13],  [0, 15],  [0, 23],   [6, 7],\n",
      "         [3, 6],   [5, 8],   [4, 7],\n",
      "       ...\n",
      "        [5, 21],  [5, 50],  [1, 20],  [5, 14], [17, 23], [11, 15],  [6, 13],\n",
      "        [0, 29],  [7, 48],  [7, 31]],\n",
      "      dtype='object', name='rook_pos', length=112)\n",
      "\u001b[1mProbability\u001b[0m\u001b[1m distribution:\u001b[0m\n",
      "rook_pos\n",
      "[0, 7]    0.827838\n",
      "[0, 5]    0.127486\n",
      "[0, 4]    0.022173\n",
      "[3, 7]    0.008496\n",
      "[1, 5]    0.003442\n",
      "[2, 5]    0.003201\n",
      "[2, 7]    0.001581\n",
      "[1, 7]    0.001359\n",
      "[3, 5]    0.000854\n",
      "[0, 3]    0.000817\n",
      "[0, 6]    0.000812\n",
      "[2, 4]    0.000766\n",
      "[3, 4]    0.000602\n",
      "[1, 4]    0.000574\n",
      "Name: count, dtype: float64\n"
     ]
    },
    {
     "data": {
      "image/png": "[encoded data removed]",
      "text/plain": [
       "<Figure size 1300x500 with 2 Axes>"
      ]
     },
     "metadata": {},
     "output_type": "display_data"
    },
    {
     "data": {
      "application/vnd.jupyter.widget-view+json": {
       "model_id": "93240828ff08422daeb90dd8eeba8123",
       "version_major": 2,
       "version_minor": 0
      },
      "text/plain": [
       "interactive(children=(FloatSlider(value=1.0, description='zoom', max=1.0, min=0.01, step=0.05), Output()), _do…"
      ]
     },
     "metadata": {},
     "output_type": "display_data"
    }
   ],
   "source": [
    "\n",
    "def get_prob_distribution(column, treshold_percent):\n",
    "    value_counts = column.value_counts()\n",
    "    value_counts = value_counts.sort_values(ascending=False)\n",
    "\n",
    "    threshold_value = (treshold_percent/100) * value_counts.sum()\n",
    "    negligible_values = value_counts[value_counts <= threshold_value].index\n",
    "    print(\"Negligible values: \" + str(negligible_values))\n",
    "\n",
    "    value_counts = value_counts[value_counts > threshold_value]\n",
    "    prob_distribution = value_counts / value_counts.sum()\n",
    "\n",
    "    return prob_distribution\n",
    "\n",
    "def plot_probability_distribution(prob_distribution, zoom=5):\n",
    "\n",
    "    fig, axes = plt.subplots(nrows=1, ncols=2, figsize=(13, 5))\n",
    "    axes[0].bar(prob_distribution.index, prob_distribution.values)\n",
    "    plt.xlabel('Satisfied After')\n",
    "    plt.ylabel('Probability')\n",
    "    plt.title('Probability Distribution of Satisfied After')\n",
    "    axes[0].set_ylim(0, zoom)\n",
    "    plt.show()\n",
    "    \n",
    "\n",
    "\n",
    "for piece_string in constraint_piece_indexes:\n",
    "    if piece_string not in ['queen']:\n",
    "        continue\n",
    "    # print first char big\n",
    "    print(piece_string.capitalize() + ':')\n",
    "\n",
    "    piece_column = df[piece_string + '_pos']\n",
    "    \n",
    "    isOneDimensional = piece_column.apply(lambda x: len(x) == 1).all()\n",
    "    print('Is one dimensional: ' + str(isOneDimensional))\n",
    "    piece_column = piece_column.apply(lambda x: x[0]) if isOneDimensional else piece_column\n",
    "\n",
    "    prob_distribution = get_prob_distribution(piece_column, treshold_percent)\n",
    "    print(f'\\x1b[1mProbability\\x1b[0m\\x1b[1m distribution:\\x1b[0m')\n",
    "    print(prob_distribution)\n",
    "\n",
    "    interact(plot_probability_distribution, prob_distribution=fixed(prob_distribution), zoom=widgets.FloatSlider(value=1, min=0.01, max=1, step=0.05), prob_distrubtion=prob_distribution)\n",
    "        \n",
    "\n",
    "#     # fig, axes = plt.subplots(nrows=1, ncols=2, figsize=(13, 5))\n",
    "#     # axes[0].bar(prob_distribution.index, prob_distribution.values)\n",
    "#     # plt.xlabel('Satisfied After')\n",
    "#     # plt.ylabel('Probability')\n",
    "#     # plt.title('Probability Distribution of Satisfied After')\n",
    "\n",
    "#     # axes[1].hist(queen_column, bins=queen_column.max(), density=True, color=sns.color_palette('pastel')[0])\n",
    "\n",
    "#     print('\\n', '------------------------------------------', '\\n')\n",
    "\n",
    "\n",
    "#display(queen_column.describe())\n",
    "#display('Median: ' + str(queen_column.median()))\n",
    "\n"
   ]
  },
  {
   "cell_type": "code",
   "execution_count": null,
   "metadata": {},
   "outputs": [],
   "source": []
  },
  {
   "cell_type": "code",
   "execution_count": null,
   "metadata": {},
   "outputs": [],
   "source": []
  },
  {
   "cell_type": "code",
   "execution_count": null,
   "metadata": {},
   "outputs": [],
   "source": []
  },
  {
   "cell_type": "code",
   "execution_count": null,
   "metadata": {},
   "outputs": [],
   "source": []
  },
  {
   "cell_type": "code",
   "execution_count": null,
   "metadata": {},
   "outputs": [],
   "source": []
  },
  {
   "cell_type": "code",
   "execution_count": null,
   "metadata": {},
   "outputs": [],
   "source": []
  }
 ],
 "metadata": {
  "kernelspec": {
   "display_name": "Python 3 (ipykernel)",
   "language": "python",
   "name": "python3"
  },
  "language_info": {
   "codemirror_mode": {
    "name": "ipython",
    "version": 3
   },
   "file_extension": ".py",
   "mimetype": "text/x-python",
   "name": "python",
   "nbconvert_exporter": "python",
   "pygments_lexer": "ipython3",
   "version": "3.9.5"
  }
 },
 "nbformat": 4,
 "nbformat_minor": 4
}
